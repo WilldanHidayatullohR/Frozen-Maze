{
  "cells": [
    {
      "cell_type": "markdown",
      "metadata": {
        "id": "view-in-github",
        "colab_type": "text"
      },
      "source": [
        "<a href=\"https://colab.research.google.com/github/Willow-boop/Frozen-Maze/blob/main/Copy_of_Reinforcement_Learning_Using_Q_Table_FrozenLake.ipynb\" target=\"_parent\"><img src=\"https://colab.research.google.com/assets/colab-badge.svg\" alt=\"Open In Colab\"/></a>"
      ]
    },
    {
      "metadata": {
        "id": "DQD9enwakU_w"
      },
      "cell_type": "markdown",
      "source": [
        "# Frozen Lake with OpenAI GYM\n",
        "\n"
      ]
    },
    {
      "metadata": {
        "id": "ENavysoakU_5"
      },
      "cell_type": "markdown",
      "source": [
        "## Reinforcement Learning\n",
        "Reinforcement Learning briefly is a paradigm of Learning Process in which a learning agent learns, overtime, to behave optimally in a certain environment by interacting continuously in the environment. The agent during its course of learning experience various different situations in the environment it is in. These are called states. The agent while being in that state may choose from a set of allowable actions which may fetch different rewards(or penalties). The learning agent overtime learns to maximize these rewards so as to behave optimally at any given state it is in."
      ]
    },
    {
      "metadata": {
        "id": "aULdhi_PkU_6"
      },
      "cell_type": "markdown",
      "source": [
        "It is a toolkit for developing and comparing reinforcement learning algorithms. OpenAI’s mission is to ensure that artificial general intelligence benefits all of humanity.\n",
        "\n"
      ]
    },
    {
      "metadata": {
        "id": "-YLlH0pEkU_7"
      },
      "cell_type": "markdown",
      "source": [
        "# Interacting with the Gym environment   \n",
        "OPenAI/gym makes it relative straightforward to interact with the game.  \n",
        "<img src=\"https://cdn-images-1.medium.com/max/800/1*7Ae4mf9gVvpuMgenwtf8wA.png\">\n",
        "\n",
        "\n",
        "Each timestep, the agent chooses an action, and the environment returns an observation and a reward.  \n",
        "\n",
        "*observation, reward, done, info = env.step(action) *  \n",
        "* observation (object): an environment-specific object representing your observation of the environment. For example, pixel data from a camera, joint angles and joint velocities of a robot, or the board state in a board game line Taxi.\n",
        "* reward (float): amount of reward achieved by the previous action. The scale varies between environments, but the goal is always to increase your total reward.\n",
        "* done (boolean): whether it’s time to reset the environment again. Most (but not all) tasks are divided up into well-defined episodes, and done being True indicates the episode has terminated. (For example, perhaps the pole tipped too far, or you lost your last life.)\n",
        "* info (dict): ignore, diagnostic information useful for debugging. Official evaluations of your agent are not allowed to use this for learning.  \n",
        "\n",
        "Let's first do some random steps in the game so you see how the game looks like"
      ]
    },
    {
      "metadata": {
        "id": "e8MDQe_AkU_8"
      },
      "cell_type": "markdown",
      "source": [
        "## FrozenLake Problem\n",
        "\n",
        "The agent controls the movement of a character in a grid world. Some tiles of the grid are walkable, and others lead to the agent falling into the water. Additionally, the movement direction of the agent is uncertain and only partially depends on the chosen direction. The agent is rewarded for finding a walkable path to a goal tile.\n",
        "\n",
        "\n",
        "* S=Start\n",
        "* F=Frozen\n",
        "* H=Hole\n",
        "* G=Goal"
      ]
    },
    {
      "metadata": {
        "trusted": true,
        "id": "_h3La3zYkU_9"
      },
      "cell_type": "code",
      "source": [
        "import gym"
      ],
      "execution_count": null,
      "outputs": []
    },
    {
      "metadata": {
        "trusted": true,
        "id": "_wFVIYzYkVAA"
      },
      "cell_type": "code",
      "source": [
        "import torch\n",
        "import time\n",
        "import matplotlib.pyplot as plt"
      ],
      "execution_count": null,
      "outputs": []
    },
    {
      "metadata": {
        "_uuid": "d629ff2d2480ee46fbb7e2d37f6b5fab8052498a",
        "_cell_guid": "79c7e3d0-c299-4dcb-8224-4455121ee9b0",
        "trusted": true,
        "id": "sm-nq0dJkVAB",
        "outputId": "229a1bc5-bb26-4faf-ef2e-fb9e41b93223",
        "colab": {
          "base_uri": "https://localhost:8080/"
        }
      },
      "cell_type": "code",
      "source": [
        "from gym.envs.registration import register\n",
        "register(\n",
        "    id='FrozenLakeNotSlippery-v0',\n",
        "    entry_point='gym.envs.toy_text:FrozenLakeEnv',\n",
        "    kwargs={'map_name' : '4x4', 'is_slippery': False},\n",
        ")\n",
        "\n",
        "env = gym.make('FrozenLakeNotSlippery-v0')\n",
        "\n",
        "# Reset the environment before rendering\n",
        "env.reset()\n",
        "\n",
        "env.render()"
      ],
      "execution_count": null,
      "outputs": [
        {
          "output_type": "stream",
          "name": "stderr",
          "text": [
            "/usr/local/lib/python3.10/dist-packages/gym/core.py:317: DeprecationWarning: \u001b[33mWARN: Initializing wrapper in old step API which returns one bool instead of two. It is recommended to set `new_step_api=True` to use new step API. This will be the default behaviour in future.\u001b[0m\n",
            "  deprecation(\n",
            "/usr/local/lib/python3.10/dist-packages/gym/wrappers/step_api_compatibility.py:39: DeprecationWarning: \u001b[33mWARN: Initializing environment in old step API which returns one bool instead of two. It is recommended to set `new_step_api=True` to use new step API. This will be the default behaviour in future.\u001b[0m\n",
            "  deprecation(\n",
            "/usr/local/lib/python3.10/dist-packages/gym/core.py:49: DeprecationWarning: \u001b[33mWARN: You are calling render method, but you didn't specified the argument render_mode at environment initialization. To maintain backward compatibility, the environment will render in human mode.\n",
            "If you want to render in human mode, initialize the environment in this way: gym.make('EnvName', render_mode='human') and don't call the render method.\n",
            "See here for more information: https://www.gymlibrary.ml/content/api/\u001b[0m\n",
            "  deprecation(\n"
          ]
        }
      ]
    },
    {
      "metadata": {
        "trusted": true,
        "id": "Qxk0vy93kVAC",
        "outputId": "a4604784-0c2f-4ea0-8dd1-13235744346b",
        "colab": {
          "base_uri": "https://localhost:8080/"
        }
      },
      "cell_type": "code",
      "source": [
        "# Total number of States and Actions\n",
        "number_of_states = env.observation_space.n\n",
        "number_of_actions = env.action_space.n\n",
        "print( \"States = \", number_of_states)\n",
        "print( \"Actions = \", number_of_actions)\n",
        "\n",
        "num_episodes = 1000\n",
        "steps_total = []\n",
        "rewards_total = []\n",
        "egreedy_total = []\n"
      ],
      "execution_count": null,
      "outputs": [
        {
          "output_type": "stream",
          "name": "stdout",
          "text": [
            "States =  16\n",
            "Actions =  4\n"
          ]
        }
      ]
    },
    {
      "metadata": {
        "id": "C_KQGDK4kVAC"
      },
      "cell_type": "markdown",
      "source": [
        "\n",
        "4x4=16 States\n",
        "\n",
        "Left, Right, Up, Down 4 actions."
      ]
    },
    {
      "metadata": {
        "id": "AqSUD6nGkVAD"
      },
      "cell_type": "markdown",
      "source": [
        "## Q-Learning Equation\n",
        "#### Q-Learning is a basic form of Reinforcement Learning which uses Q-values (also called action values) to iteratively improve the behavior of the learning agent.\n",
        "\n",
        "\n",
        "\n",
        "#### New Q(s,a) = (1 - learning_rate) x Q(s,a)  +  learning_rate x [ reward + discount_rate x maxQ(s',a')]  \n",
        "\n",
        "\n",
        "\n"
      ]
    },
    {
      "metadata": {
        "id": "e2CxxQa5kVAE"
      },
      "cell_type": "markdown",
      "source": [
        "\n",
        "- s : Current State of the agent.\n",
        "- a : Current Action Picked according to some policy.\n",
        "- s' : Next State where the agent ends up.\n",
        "- a' : Next best action to be picked using current Q-value estimation, i.e. pick the action with the maximum Q-value in the next state.\n",
        "- R : Current Reward observed from the environment in Response of current action.\n",
        "- 𝛾 (>0 and <=1) : Discounting Factor for Future Rewards. Future rewars are less valuable than current rewards so they must be discounted. Since Q-value is an estimation of expected rewards from a state, discounting rule applies here as well.\n",
        "- 𝛼  : Step length taken to update the estimation of Q(S, A)."
      ]
    },
    {
      "metadata": {
        "id": "NhKrEdAIkVAE"
      },
      "cell_type": "markdown",
      "source": [
        "###  Learning Rate ($\\alpha$)"
      ]
    },
    {
      "metadata": {
        "trusted": true,
        "id": "yZ5dFP0XkVAF"
      },
      "cell_type": "code",
      "source": [
        "# if learning_rate == 0:\n",
        "#      Pick value of new Q(s,a) based on past experience\n",
        "# elif learning_rate == 1:\n",
        "#      Pick value of new Q(s,a) based on current situtation\n",
        "\n",
        "# Value of learning_rate(alpha) varies from [0 - 1]"
      ],
      "execution_count": null,
      "outputs": []
    },
    {
      "metadata": {
        "id": "jYWSRgUlkVAF"
      },
      "cell_type": "markdown",
      "source": [
        "### Discount Rate ($\\gamma$)"
      ]
    },
    {
      "metadata": {
        "trusted": true,
        "id": "aAQpZXVCkVAG"
      },
      "cell_type": "code",
      "source": [
        "# Discount rate accounts for the Reward the agent receive on an action\n",
        "\n",
        "# if discount_rate == 0:\n",
        "#     only current reward accounted\n",
        "# elif discount_rate == 1:\n",
        "#     future rewards also accounted\n"
      ],
      "execution_count": null,
      "outputs": []
    },
    {
      "metadata": {
        "trusted": true,
        "id": "6gS6L2SAkVAG"
      },
      "cell_type": "code",
      "source": [
        "# PARAMS\n",
        "\n",
        "# Discount on reward\n",
        "gamma = 0.95\n",
        "\n",
        "# Factor to balance the ratio of action taken based on past experience to current situtation\n",
        "learning_rate = 0.9\n",
        "\n"
      ],
      "execution_count": null,
      "outputs": []
    },
    {
      "metadata": {
        "id": "ItrU71uBkVAH"
      },
      "cell_type": "markdown",
      "source": [
        "## Exploration vs Exploitation\n",
        "\n",
        "- Choosing the Action to take using  𝜖 -greedy policy:\n",
        "- 𝜖 -greedy policy of is a very simple policy of choosing actions using the current Q-value estimations. It goes as follows :\n",
        "- With probability (1- $\\epsilon$ ) choose the action which has the highest Q-value.\n",
        "- With probability ($\\epsilon$) choose any action at random.\n",
        "\n",
        "\n",
        "\n"
      ]
    },
    {
      "metadata": {
        "trusted": true,
        "id": "ftchx04hkVAH"
      },
      "cell_type": "code",
      "source": [
        "# exploit vs explore to find action\n",
        "# Start with 70% random actions to explore the environment\n",
        "# And with time, using decay to shift to more optimal actions learned from experience\n",
        "\n",
        "egreedy = 0.7\n",
        "egreedy_final = 0.1\n",
        "egreedy_decay = 0.999"
      ],
      "execution_count": null,
      "outputs": []
    },
    {
      "metadata": {
        "trusted": true,
        "id": "iiqYW1u5kVAI",
        "outputId": "72b0d7eb-97f7-4368-a11d-2260e6c063c7",
        "colab": {
          "base_uri": "https://localhost:8080/"
        }
      },
      "cell_type": "code",
      "source": [
        "Q = torch.zeros([number_of_states, number_of_actions])\n",
        "Q\n"
      ],
      "execution_count": null,
      "outputs": [
        {
          "output_type": "execute_result",
          "data": {
            "text/plain": [
              "tensor([[0., 0., 0., 0.],\n",
              "        [0., 0., 0., 0.],\n",
              "        [0., 0., 0., 0.],\n",
              "        [0., 0., 0., 0.],\n",
              "        [0., 0., 0., 0.],\n",
              "        [0., 0., 0., 0.],\n",
              "        [0., 0., 0., 0.],\n",
              "        [0., 0., 0., 0.],\n",
              "        [0., 0., 0., 0.],\n",
              "        [0., 0., 0., 0.],\n",
              "        [0., 0., 0., 0.],\n",
              "        [0., 0., 0., 0.],\n",
              "        [0., 0., 0., 0.],\n",
              "        [0., 0., 0., 0.],\n",
              "        [0., 0., 0., 0.],\n",
              "        [0., 0., 0., 0.]])"
            ]
          },
          "metadata": {},
          "execution_count": 9
        }
      ]
    },
    {
      "metadata": {
        "trusted": true,
        "id": "QfSa5vM-kVAI",
        "outputId": "f5672bea-caf2-416c-be73-68a99a0785a7",
        "colab": {
          "base_uri": "https://localhost:8080/"
        }
      },
      "cell_type": "code",
      "source": [
        "for i_episode in range(num_episodes):\n",
        "\n",
        "    # resets the environment\n",
        "    state = env.reset()\n",
        "    step = 0\n",
        "\n",
        "    while True:\n",
        "\n",
        "        step += 1\n",
        "\n",
        "        random_for_egreedy = torch.rand(1)[0]\n",
        "\n",
        "\n",
        "        if random_for_egreedy > egreedy:\n",
        "            random_values = Q[state] + torch.rand(1,number_of_actions) / 1000\n",
        "            action = torch.max(random_values,1)[1][0]\n",
        "            action = action.item()\n",
        "        else:\n",
        "            action = env.action_space.sample()\n",
        "\n",
        "        if egreedy > egreedy_final:\n",
        "            egreedy *= egreedy_decay\n",
        "\n",
        "        new_state, reward, done, info = env.step(action)\n",
        "\n",
        "        # Filling the Q Table\n",
        "        Q[state, action] = reward + gamma * torch.max(Q[new_state])\n",
        "\n",
        "        # Setting new state for next action\n",
        "        state = new_state\n",
        "\n",
        "        # env.render()\n",
        "        # time.sleep(0.4)\n",
        "\n",
        "        if done:\n",
        "            steps_total.append(step)\n",
        "            rewards_total.append(reward)\n",
        "            egreedy_total.append(egreedy)\n",
        "            if i_episode % 10 == 0:\n",
        "                print('Episode: {} Reward: {} Steps Taken: {}'.format(i_episode,reward, step))\n",
        "            break\n",
        "\n",
        "\n"
      ],
      "execution_count": null,
      "outputs": [
        {
          "output_type": "stream",
          "name": "stderr",
          "text": [
            "/usr/local/lib/python3.10/dist-packages/gym/utils/passive_env_checker.py:241: DeprecationWarning: `np.bool8` is a deprecated alias for `np.bool_`.  (Deprecated NumPy 1.24)\n",
            "  if not isinstance(terminated, (bool, np.bool8)):\n"
          ]
        },
        {
          "output_type": "stream",
          "name": "stdout",
          "text": [
            "Episode: 0 Reward: 0.0 Steps Taken: 2\n",
            "Episode: 10 Reward: 0.0 Steps Taken: 11\n",
            "Episode: 20 Reward: 0.0 Steps Taken: 9\n",
            "Episode: 30 Reward: 0.0 Steps Taken: 8\n",
            "Episode: 40 Reward: 0.0 Steps Taken: 3\n",
            "Episode: 50 Reward: 0.0 Steps Taken: 7\n",
            "Episode: 60 Reward: 0.0 Steps Taken: 10\n",
            "Episode: 70 Reward: 1.0 Steps Taken: 11\n",
            "Episode: 80 Reward: 0.0 Steps Taken: 5\n",
            "Episode: 90 Reward: 0.0 Steps Taken: 4\n",
            "Episode: 100 Reward: 1.0 Steps Taken: 8\n",
            "Episode: 110 Reward: 0.0 Steps Taken: 9\n",
            "Episode: 120 Reward: 0.0 Steps Taken: 4\n",
            "Episode: 130 Reward: 1.0 Steps Taken: 7\n",
            "Episode: 140 Reward: 0.0 Steps Taken: 4\n",
            "Episode: 150 Reward: 0.0 Steps Taken: 12\n",
            "Episode: 160 Reward: 1.0 Steps Taken: 9\n",
            "Episode: 170 Reward: 0.0 Steps Taken: 4\n",
            "Episode: 180 Reward: 1.0 Steps Taken: 8\n",
            "Episode: 190 Reward: 1.0 Steps Taken: 9\n",
            "Episode: 200 Reward: 0.0 Steps Taken: 5\n",
            "Episode: 210 Reward: 1.0 Steps Taken: 8\n",
            "Episode: 220 Reward: 1.0 Steps Taken: 6\n",
            "Episode: 230 Reward: 1.0 Steps Taken: 6\n",
            "Episode: 240 Reward: 1.0 Steps Taken: 8\n",
            "Episode: 250 Reward: 1.0 Steps Taken: 6\n",
            "Episode: 260 Reward: 1.0 Steps Taken: 6\n",
            "Episode: 270 Reward: 1.0 Steps Taken: 6\n",
            "Episode: 280 Reward: 1.0 Steps Taken: 8\n",
            "Episode: 290 Reward: 1.0 Steps Taken: 6\n",
            "Episode: 300 Reward: 0.0 Steps Taken: 4\n",
            "Episode: 310 Reward: 1.0 Steps Taken: 10\n",
            "Episode: 320 Reward: 1.0 Steps Taken: 14\n",
            "Episode: 330 Reward: 0.0 Steps Taken: 5\n",
            "Episode: 340 Reward: 1.0 Steps Taken: 7\n",
            "Episode: 350 Reward: 0.0 Steps Taken: 4\n",
            "Episode: 360 Reward: 1.0 Steps Taken: 8\n",
            "Episode: 370 Reward: 1.0 Steps Taken: 8\n",
            "Episode: 380 Reward: 1.0 Steps Taken: 6\n",
            "Episode: 390 Reward: 1.0 Steps Taken: 6\n",
            "Episode: 400 Reward: 0.0 Steps Taken: 4\n",
            "Episode: 410 Reward: 1.0 Steps Taken: 6\n",
            "Episode: 420 Reward: 1.0 Steps Taken: 6\n",
            "Episode: 430 Reward: 0.0 Steps Taken: 4\n",
            "Episode: 440 Reward: 1.0 Steps Taken: 8\n",
            "Episode: 450 Reward: 1.0 Steps Taken: 6\n",
            "Episode: 460 Reward: 1.0 Steps Taken: 6\n",
            "Episode: 470 Reward: 1.0 Steps Taken: 6\n",
            "Episode: 480 Reward: 1.0 Steps Taken: 8\n",
            "Episode: 490 Reward: 0.0 Steps Taken: 5\n",
            "Episode: 500 Reward: 1.0 Steps Taken: 6\n",
            "Episode: 510 Reward: 1.0 Steps Taken: 6\n",
            "Episode: 520 Reward: 1.0 Steps Taken: 6\n",
            "Episode: 530 Reward: 1.0 Steps Taken: 6\n",
            "Episode: 540 Reward: 1.0 Steps Taken: 6\n",
            "Episode: 550 Reward: 1.0 Steps Taken: 6\n",
            "Episode: 560 Reward: 1.0 Steps Taken: 6\n",
            "Episode: 570 Reward: 1.0 Steps Taken: 6\n",
            "Episode: 580 Reward: 1.0 Steps Taken: 8\n",
            "Episode: 590 Reward: 1.0 Steps Taken: 8\n",
            "Episode: 600 Reward: 1.0 Steps Taken: 6\n",
            "Episode: 610 Reward: 1.0 Steps Taken: 6\n",
            "Episode: 620 Reward: 1.0 Steps Taken: 8\n",
            "Episode: 630 Reward: 1.0 Steps Taken: 6\n",
            "Episode: 640 Reward: 1.0 Steps Taken: 7\n",
            "Episode: 650 Reward: 1.0 Steps Taken: 7\n",
            "Episode: 660 Reward: 1.0 Steps Taken: 6\n",
            "Episode: 670 Reward: 1.0 Steps Taken: 6\n",
            "Episode: 680 Reward: 1.0 Steps Taken: 8\n",
            "Episode: 690 Reward: 1.0 Steps Taken: 6\n",
            "Episode: 700 Reward: 1.0 Steps Taken: 8\n",
            "Episode: 710 Reward: 0.0 Steps Taken: 6\n",
            "Episode: 720 Reward: 1.0 Steps Taken: 12\n",
            "Episode: 730 Reward: 1.0 Steps Taken: 7\n",
            "Episode: 740 Reward: 1.0 Steps Taken: 8\n",
            "Episode: 750 Reward: 1.0 Steps Taken: 6\n",
            "Episode: 760 Reward: 1.0 Steps Taken: 6\n",
            "Episode: 770 Reward: 0.0 Steps Taken: 4\n",
            "Episode: 780 Reward: 1.0 Steps Taken: 7\n",
            "Episode: 790 Reward: 1.0 Steps Taken: 6\n",
            "Episode: 800 Reward: 1.0 Steps Taken: 6\n",
            "Episode: 810 Reward: 1.0 Steps Taken: 8\n",
            "Episode: 820 Reward: 1.0 Steps Taken: 6\n",
            "Episode: 830 Reward: 1.0 Steps Taken: 6\n",
            "Episode: 840 Reward: 0.0 Steps Taken: 4\n",
            "Episode: 850 Reward: 1.0 Steps Taken: 6\n",
            "Episode: 860 Reward: 1.0 Steps Taken: 8\n",
            "Episode: 870 Reward: 0.0 Steps Taken: 5\n",
            "Episode: 880 Reward: 1.0 Steps Taken: 6\n",
            "Episode: 890 Reward: 1.0 Steps Taken: 7\n",
            "Episode: 900 Reward: 1.0 Steps Taken: 6\n",
            "Episode: 910 Reward: 0.0 Steps Taken: 2\n",
            "Episode: 920 Reward: 1.0 Steps Taken: 6\n",
            "Episode: 930 Reward: 1.0 Steps Taken: 6\n",
            "Episode: 940 Reward: 1.0 Steps Taken: 6\n",
            "Episode: 950 Reward: 1.0 Steps Taken: 8\n",
            "Episode: 960 Reward: 1.0 Steps Taken: 7\n",
            "Episode: 970 Reward: 1.0 Steps Taken: 6\n",
            "Episode: 980 Reward: 1.0 Steps Taken: 6\n",
            "Episode: 990 Reward: 1.0 Steps Taken: 6\n"
          ]
        }
      ]
    },
    {
      "metadata": {
        "trusted": true,
        "id": "2iQXt_krkVAI",
        "outputId": "3b96749f-22b1-44db-811a-0844bd7369c4",
        "colab": {
          "base_uri": "https://localhost:8080/"
        }
      },
      "cell_type": "code",
      "source": [
        "print(Q)\n",
        "\n",
        "print(\"Percent of episodes finished successfully: {0}\".format(sum(rewards_total)/num_episodes))\n",
        "print(\"Percent of episodes finished successfully (last 100 episodes): {0}\".format(sum(rewards_total[-100:])/100))\n",
        "\n",
        "print(\"Average number of steps: %.2f\" % (sum(steps_total)/num_episodes))\n",
        "print(\"Average number of steps (last 100 episodes): %.2f\" % (sum(steps_total[-100:])/100))\n"
      ],
      "execution_count": null,
      "outputs": [
        {
          "output_type": "stream",
          "name": "stdout",
          "text": [
            "tensor([[0.7351, 0.7738, 0.7738, 0.7351],\n",
            "        [0.7351, 0.0000, 0.8145, 0.7738],\n",
            "        [0.7738, 0.8574, 0.7738, 0.8145],\n",
            "        [0.8145, 0.0000, 0.0000, 0.0000],\n",
            "        [0.7738, 0.8145, 0.0000, 0.7351],\n",
            "        [0.0000, 0.0000, 0.0000, 0.0000],\n",
            "        [0.0000, 0.9025, 0.0000, 0.8145],\n",
            "        [0.0000, 0.0000, 0.0000, 0.0000],\n",
            "        [0.8145, 0.0000, 0.8574, 0.0000],\n",
            "        [0.8145, 0.9025, 0.9025, 0.0000],\n",
            "        [0.8574, 0.9500, 0.0000, 0.8574],\n",
            "        [0.0000, 0.0000, 0.0000, 0.0000],\n",
            "        [0.0000, 0.0000, 0.0000, 0.0000],\n",
            "        [0.0000, 0.9025, 0.9500, 0.8574],\n",
            "        [0.9025, 0.9500, 1.0000, 0.9025],\n",
            "        [0.0000, 0.0000, 0.0000, 0.0000]])\n",
            "Percent of episodes finished successfully: 0.778\n",
            "Percent of episodes finished successfully (last 100 episodes): 0.88\n",
            "Average number of steps: 6.54\n",
            "Average number of steps (last 100 episodes): 6.09\n"
          ]
        }
      ]
    },
    {
      "metadata": {
        "trusted": true,
        "id": "YNwR56q4kVAJ",
        "outputId": "a357827f-aff3-4f62-fcb9-0f7ebf3cf907",
        "colab": {
          "base_uri": "https://localhost:8080/",
          "height": 468
        }
      },
      "cell_type": "code",
      "source": [
        "plt.figure(figsize=(12,5))\n",
        "plt.title(\"Rewards\")\n",
        "plt.bar(torch.arange(len(rewards_total)), rewards_total, alpha=0.6, color='green', width=5)\n",
        "plt.show()\n",
        "\n"
      ],
      "execution_count": null,
      "outputs": [
        {
          "output_type": "display_data",
          "data": {
            "text/plain": [
              "<Figure size 1200x500 with 1 Axes>"
            ],
            "image/png": "[encoded data removed]"
          },
          "metadata": {}
        }
      ]
    },
    {
      "metadata": {
        "trusted": true,
        "id": "TPLP8086kVAJ",
        "outputId": "902e6bd7-d2e0-4352-bdca-00ac69d29516",
        "colab": {
          "base_uri": "https://localhost:8080/",
          "height": 468
        }
      },
      "cell_type": "code",
      "source": [
        "plt.figure(figsize=(12,5))\n",
        "plt.title(\"Steps / Episode length\")\n",
        "plt.bar(torch.arange(len(steps_total)), steps_total, alpha=0.6, color='red', width=5)\n",
        "plt.show()\n",
        "\n"
      ],
      "execution_count": null,
      "outputs": [
        {
          "output_type": "display_data",
          "data": {
            "text/plain": [
              "<Figure size 1200x500 with 1 Axes>"
            ],
            "image/png": "[encoded data removed]"
          },
          "metadata": {}
        }
      ]
    },
    {
      "metadata": {
        "id": "Qr-8DJMVkVAJ"
      },
      "cell_type": "markdown",
      "source": [
        "#### Here, we can see that the steps taken in an episode is large because we have high random action in the starting and later on...as we learn from experience, we start to take more informed steps , hence less noise"
      ]
    },
    {
      "metadata": {
        "trusted": true,
        "id": "X6-x2MuQkVAK",
        "outputId": "ff87010b-1921-4e96-b2d9-d00cba29a6f7",
        "colab": {
          "base_uri": "https://localhost:8080/",
          "height": 468
        }
      },
      "cell_type": "code",
      "source": [
        "plt.figure(figsize=(12,5))\n",
        "plt.title(\"Egreedy value\")\n",
        "plt.bar(torch.arange(len(egreedy_total)), egreedy_total, alpha=0.6, color='blue', width=5)\n",
        "plt.show()\n"
      ],
      "execution_count": null,
      "outputs": [
        {
          "output_type": "display_data",
          "data": {
            "text/plain": [
              "<Figure size 1200x500 with 1 Axes>"
            ],
            "image/png": "[encoded data removed]"
          },
          "metadata": {}
        }
      ]
    },
    {
      "metadata": {
        "trusted": true,
        "id": "TU-bXgHnkVAK"
      },
      "cell_type": "markdown",
      "source": [
        " #### In the above graph, we can see how  egreedy ($\\epsilon$) value is reducing with time"
      ]
    },
    {
      "metadata": {
        "id": "8sleGDCUkVAK"
      },
      "cell_type": "markdown",
      "source": [
        "- Hoped you liked my notebook (upvote top right), my way to conribute back to this fantastic Kaggle platform and community."
      ]
    }
  ],
  "metadata": {
    "kernelspec": {
      "language": "python",
      "display_name": "Python 3",
      "name": "python3"
    },
    "language_info": {
      "pygments_lexer": "ipython3",
      "nbconvert_exporter": "python",
      "version": "3.6.4",
      "file_extension": ".py",
      "codemirror_mode": {
        "name": "ipython",
        "version": 3
      },
      "name": "python",
      "mimetype": "text/x-python"
    },
    "colab": {
      "provenance": [],
      "include_colab_link": true
    }
  },
  "nbformat": 4,
  "nbformat_minor": 0
}